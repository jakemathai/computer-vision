{
 "cells": [
  {
   "cell_type": "code",
   "execution_count": 2,
   "metadata": {},
   "outputs": [
    {
     "name": "stdout",
     "output_type": "stream",
     "text": [
      "The image text says :\n",
      "Jack & Jill\n",
      "Jack and Jill\n",
      "Went up the hill\n",
      "To fetch a pail of watei\n",
      "Jack fell down\n",
      "And bioke his ciown\n",
      "And Jill came tumbling after.\n",
      "Up Jack got\n",
      "And home did tiot\n",
      "As fast as he could caper\n",
      "Went to bed\n",
      "And plasteed his head\n",
      "And plastered his head\n",
      "With vinegai and biown pa\n",
      "www.Siyalla com\n",
      "\n"
     ]
    }
   ],
   "source": [
    "#This script detects text/OCR in within an image. Jack and Jill ...\n",
    "\n",
    "import argparse\n",
    "import io\n",
    "\n",
    "from google.cloud import vision\n",
    "\n",
    "client = vision.Client()\n",
    "image = client.image(source_uri='http://www.siyalla.com/kids/nursery_rhymes/jack-and-jill.jpg')\n",
    "\n",
    "texts = image.detect_text()\n",
    "texts[0].locale\n",
    "x=texts[0].description\n",
    "\n",
    "print \"The image text says :\"\n",
    "print x"
   ]
  },
  {
   "cell_type": "code",
   "execution_count": null,
   "metadata": {
    "collapsed": true
   },
   "outputs": [],
   "source": []
  },
  {
   "cell_type": "code",
   "execution_count": null,
   "metadata": {
    "collapsed": true
   },
   "outputs": [],
   "source": []
  }
 ],
 "metadata": {
  "kernelspec": {
   "display_name": "Python 2",
   "language": "python",
   "name": "python2"
  },
  "language_info": {
   "codemirror_mode": {
    "name": "ipython",
    "version": 2
   },
   "file_extension": ".py",
   "mimetype": "text/x-python",
   "name": "python",
   "nbconvert_exporter": "python",
   "pygments_lexer": "ipython2",
   "version": "2.7.12+"
  }
 },
 "nbformat": 4,
 "nbformat_minor": 2
}
